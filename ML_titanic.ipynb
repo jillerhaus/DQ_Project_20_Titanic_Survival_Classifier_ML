{
 "cells": [
  {
   "cell_type": "markdown",
   "metadata": {
    "collapsed": true
   },
   "source": [
    "# Titanic Survival Classifier\n",
    "\n",
    "In this project a dataset containing several pieces of information from titanic passengers will be analyzed in order to try to predict whether or not they survived the Titanic's maiden voyage. For this reason several machine learning algorithms will be constructed and their efficacy will be tested.\n",
    "\n",
    "In addition a Kaggle workflow will be created, since this is a very popular [competition](https://www.kaggle.com/c/titanic) on the [Kaggle website](https://www.kaggle.com/). In a Kaggle competition, the competitor is given a dataset to train and test their machine learning model on. In addition, they are given a second, unlabeled dataset on which to make predictions. The user's models are used to predict the labels on the unlabeled dataset. These labels are then submitted to Kaggle and graded on their accuracy. Each competitor is given the chance to keep submitting more results in order to improve their score and standings on the leaderboard. Often many submissions are made as the models are improved iteratively, so it is a good idea to automate the workflow of training and testing a model and then finalizing a submission."
   ]
  },
  {
   "cell_type": "markdown",
   "metadata": {},
   "source": [
    "# Setup"
   ]
  },
  {
   "cell_type": "code",
   "execution_count": 1,
   "metadata": {},
   "outputs": [],
   "source": [
    "import pandas as pd\n",
    "import numpy as np\n",
    "train = pd.read_csv('train.csv')\n",
    "holdout = pd.read_csv('test.csv')"
   ]
  },
  {
   "cell_type": "code",
   "execution_count": 2,
   "metadata": {},
   "outputs": [
    {
     "name": "stdout",
     "output_type": "stream",
     "text": [
      "(891, 12)\n"
     ]
    },
    {
     "data": {
      "text/html": [
       "<div>\n",
       "<style scoped>\n",
       "    .dataframe tbody tr th:only-of-type {\n",
       "        vertical-align: middle;\n",
       "    }\n",
       "\n",
       "    .dataframe tbody tr th {\n",
       "        vertical-align: top;\n",
       "    }\n",
       "\n",
       "    .dataframe thead th {\n",
       "        text-align: right;\n",
       "    }\n",
       "</style>\n",
       "<table border=\"1\" class=\"dataframe\">\n",
       "  <thead>\n",
       "    <tr style=\"text-align: right;\">\n",
       "      <th></th>\n",
       "      <th>PassengerId</th>\n",
       "      <th>Survived</th>\n",
       "      <th>Pclass</th>\n",
       "      <th>Name</th>\n",
       "      <th>Sex</th>\n",
       "      <th>Age</th>\n",
       "      <th>SibSp</th>\n",
       "      <th>Parch</th>\n",
       "      <th>Ticket</th>\n",
       "      <th>Fare</th>\n",
       "      <th>Cabin</th>\n",
       "      <th>Embarked</th>\n",
       "    </tr>\n",
       "  </thead>\n",
       "  <tbody>\n",
       "    <tr>\n",
       "      <th>0</th>\n",
       "      <td>1</td>\n",
       "      <td>0</td>\n",
       "      <td>3</td>\n",
       "      <td>Braund, Mr. Owen Harris</td>\n",
       "      <td>male</td>\n",
       "      <td>22.0</td>\n",
       "      <td>1</td>\n",
       "      <td>0</td>\n",
       "      <td>A/5 21171</td>\n",
       "      <td>7.2500</td>\n",
       "      <td>NaN</td>\n",
       "      <td>S</td>\n",
       "    </tr>\n",
       "    <tr>\n",
       "      <th>1</th>\n",
       "      <td>2</td>\n",
       "      <td>1</td>\n",
       "      <td>1</td>\n",
       "      <td>Cumings, Mrs. John Bradley (Florence Briggs Th...</td>\n",
       "      <td>female</td>\n",
       "      <td>38.0</td>\n",
       "      <td>1</td>\n",
       "      <td>0</td>\n",
       "      <td>PC 17599</td>\n",
       "      <td>71.2833</td>\n",
       "      <td>C85</td>\n",
       "      <td>C</td>\n",
       "    </tr>\n",
       "    <tr>\n",
       "      <th>2</th>\n",
       "      <td>3</td>\n",
       "      <td>1</td>\n",
       "      <td>3</td>\n",
       "      <td>Heikkinen, Miss. Laina</td>\n",
       "      <td>female</td>\n",
       "      <td>26.0</td>\n",
       "      <td>0</td>\n",
       "      <td>0</td>\n",
       "      <td>STON/O2. 3101282</td>\n",
       "      <td>7.9250</td>\n",
       "      <td>NaN</td>\n",
       "      <td>S</td>\n",
       "    </tr>\n",
       "    <tr>\n",
       "      <th>3</th>\n",
       "      <td>4</td>\n",
       "      <td>1</td>\n",
       "      <td>1</td>\n",
       "      <td>Futrelle, Mrs. Jacques Heath (Lily May Peel)</td>\n",
       "      <td>female</td>\n",
       "      <td>35.0</td>\n",
       "      <td>1</td>\n",
       "      <td>0</td>\n",
       "      <td>113803</td>\n",
       "      <td>53.1000</td>\n",
       "      <td>C123</td>\n",
       "      <td>S</td>\n",
       "    </tr>\n",
       "    <tr>\n",
       "      <th>4</th>\n",
       "      <td>5</td>\n",
       "      <td>0</td>\n",
       "      <td>3</td>\n",
       "      <td>Allen, Mr. William Henry</td>\n",
       "      <td>male</td>\n",
       "      <td>35.0</td>\n",
       "      <td>0</td>\n",
       "      <td>0</td>\n",
       "      <td>373450</td>\n",
       "      <td>8.0500</td>\n",
       "      <td>NaN</td>\n",
       "      <td>S</td>\n",
       "    </tr>\n",
       "  </tbody>\n",
       "</table>\n",
       "</div>"
      ],
      "text/plain": [
       "   PassengerId  Survived  Pclass  \\\n",
       "0            1         0       3   \n",
       "1            2         1       1   \n",
       "2            3         1       3   \n",
       "3            4         1       1   \n",
       "4            5         0       3   \n",
       "\n",
       "                                                Name     Sex   Age  SibSp  \\\n",
       "0                            Braund, Mr. Owen Harris    male  22.0      1   \n",
       "1  Cumings, Mrs. John Bradley (Florence Briggs Th...  female  38.0      1   \n",
       "2                             Heikkinen, Miss. Laina  female  26.0      0   \n",
       "3       Futrelle, Mrs. Jacques Heath (Lily May Peel)  female  35.0      1   \n",
       "4                           Allen, Mr. William Henry    male  35.0      0   \n",
       "\n",
       "   Parch            Ticket     Fare Cabin Embarked  \n",
       "0      0         A/5 21171   7.2500   NaN        S  \n",
       "1      0          PC 17599  71.2833   C85        C  \n",
       "2      0  STON/O2. 3101282   7.9250   NaN        S  \n",
       "3      0            113803  53.1000  C123        S  \n",
       "4      0            373450   8.0500   NaN        S  "
      ]
     },
     "execution_count": 2,
     "metadata": {},
     "output_type": "execute_result"
    }
   ],
   "source": [
    "print(train.shape)\n",
    "train.head()"
   ]
  },
  {
   "cell_type": "code",
   "execution_count": 3,
   "metadata": {},
   "outputs": [
    {
     "data": {
      "text/plain": [
       "0    608\n",
       "1    209\n",
       "2     28\n",
       "4     18\n",
       "3     16\n",
       "8      7\n",
       "5      5\n",
       "Name: SibSp, dtype: int64"
      ]
     },
     "execution_count": 3,
     "metadata": {},
     "output_type": "execute_result"
    }
   ],
   "source": [
    "train.SibSp.value_counts()"
   ]
  },
  {
   "cell_type": "markdown",
   "metadata": {},
   "source": [
    "The train dataset features 12 columns containing the information of 891 passengers:\n",
    "\n",
    "* `PassengerId`: Unique identifier for each passenger\n",
    "* `Survived`: 0 if passenger perished when the Titanic sank, 1 if they survived\n",
    "* `Pclass`: passenger's ticket class 1-3\n",
    "* `Name`: passenger name\n",
    "* `Sex`: male or female\n",
    "* `Age`\n",
    "* `SibSp`: Number of siblings and spouses on board\n",
    "* `Parch`: Number of parents and children on board\n",
    "* `Ticket`: ticket identifier. Could possibly contain additional pieces of information\n",
    "* `Fare`: price paid for the ticket\n",
    "* `Embarked`: identifier for the port the passenger got onto the titanic"
   ]
  },
  {
   "cell_type": "code",
   "execution_count": 4,
   "metadata": {
    "scrolled": true
   },
   "outputs": [
    {
     "data": {
      "text/html": [
       "<div>\n",
       "<style scoped>\n",
       "    .dataframe tbody tr th:only-of-type {\n",
       "        vertical-align: middle;\n",
       "    }\n",
       "\n",
       "    .dataframe tbody tr th {\n",
       "        vertical-align: top;\n",
       "    }\n",
       "\n",
       "    .dataframe thead th {\n",
       "        text-align: right;\n",
       "    }\n",
       "</style>\n",
       "<table border=\"1\" class=\"dataframe\">\n",
       "  <thead>\n",
       "    <tr style=\"text-align: right;\">\n",
       "      <th></th>\n",
       "      <th>PassengerId</th>\n",
       "      <th>Pclass</th>\n",
       "      <th>Name</th>\n",
       "      <th>Sex</th>\n",
       "      <th>Age</th>\n",
       "      <th>SibSp</th>\n",
       "      <th>Parch</th>\n",
       "      <th>Ticket</th>\n",
       "      <th>Fare</th>\n",
       "      <th>Cabin</th>\n",
       "      <th>Embarked</th>\n",
       "    </tr>\n",
       "  </thead>\n",
       "  <tbody>\n",
       "    <tr>\n",
       "      <th>0</th>\n",
       "      <td>892</td>\n",
       "      <td>3</td>\n",
       "      <td>Kelly, Mr. James</td>\n",
       "      <td>male</td>\n",
       "      <td>34.5</td>\n",
       "      <td>0</td>\n",
       "      <td>0</td>\n",
       "      <td>330911</td>\n",
       "      <td>7.8292</td>\n",
       "      <td>NaN</td>\n",
       "      <td>Q</td>\n",
       "    </tr>\n",
       "    <tr>\n",
       "      <th>1</th>\n",
       "      <td>893</td>\n",
       "      <td>3</td>\n",
       "      <td>Wilkes, Mrs. James (Ellen Needs)</td>\n",
       "      <td>female</td>\n",
       "      <td>47.0</td>\n",
       "      <td>1</td>\n",
       "      <td>0</td>\n",
       "      <td>363272</td>\n",
       "      <td>7.0000</td>\n",
       "      <td>NaN</td>\n",
       "      <td>S</td>\n",
       "    </tr>\n",
       "    <tr>\n",
       "      <th>2</th>\n",
       "      <td>894</td>\n",
       "      <td>2</td>\n",
       "      <td>Myles, Mr. Thomas Francis</td>\n",
       "      <td>male</td>\n",
       "      <td>62.0</td>\n",
       "      <td>0</td>\n",
       "      <td>0</td>\n",
       "      <td>240276</td>\n",
       "      <td>9.6875</td>\n",
       "      <td>NaN</td>\n",
       "      <td>Q</td>\n",
       "    </tr>\n",
       "    <tr>\n",
       "      <th>3</th>\n",
       "      <td>895</td>\n",
       "      <td>3</td>\n",
       "      <td>Wirz, Mr. Albert</td>\n",
       "      <td>male</td>\n",
       "      <td>27.0</td>\n",
       "      <td>0</td>\n",
       "      <td>0</td>\n",
       "      <td>315154</td>\n",
       "      <td>8.6625</td>\n",
       "      <td>NaN</td>\n",
       "      <td>S</td>\n",
       "    </tr>\n",
       "    <tr>\n",
       "      <th>4</th>\n",
       "      <td>896</td>\n",
       "      <td>3</td>\n",
       "      <td>Hirvonen, Mrs. Alexander (Helga E Lindqvist)</td>\n",
       "      <td>female</td>\n",
       "      <td>22.0</td>\n",
       "      <td>1</td>\n",
       "      <td>1</td>\n",
       "      <td>3101298</td>\n",
       "      <td>12.2875</td>\n",
       "      <td>NaN</td>\n",
       "      <td>S</td>\n",
       "    </tr>\n",
       "  </tbody>\n",
       "</table>\n",
       "</div>"
      ],
      "text/plain": [
       "   PassengerId  Pclass                                          Name     Sex  \\\n",
       "0          892       3                              Kelly, Mr. James    male   \n",
       "1          893       3              Wilkes, Mrs. James (Ellen Needs)  female   \n",
       "2          894       2                     Myles, Mr. Thomas Francis    male   \n",
       "3          895       3                              Wirz, Mr. Albert    male   \n",
       "4          896       3  Hirvonen, Mrs. Alexander (Helga E Lindqvist)  female   \n",
       "\n",
       "    Age  SibSp  Parch   Ticket     Fare Cabin Embarked  \n",
       "0  34.5      0      0   330911   7.8292   NaN        Q  \n",
       "1  47.0      1      0   363272   7.0000   NaN        S  \n",
       "2  62.0      0      0   240276   9.6875   NaN        Q  \n",
       "3  27.0      0      0   315154   8.6625   NaN        S  \n",
       "4  22.0      1      1  3101298  12.2875   NaN        S  "
      ]
     },
     "execution_count": 4,
     "metadata": {},
     "output_type": "execute_result"
    }
   ],
   "source": [
    "holdout.head()"
   ]
  },
  {
   "cell_type": "markdown",
   "metadata": {},
   "source": [
    "The holdout set of the data has different passengers and is missing the `Survived` column, which contains the information of whether the passenger survived or not, because this is the target column."
   ]
  },
  {
   "cell_type": "markdown",
   "metadata": {},
   "source": [
    "## Data Preprocessing:\n",
    "\n",
    "These are functions previously created, that will help process the data. They will allow for an automated data processing process, making it possible to easily apply the same preprocessing steps to all of the datasets."
   ]
  },
  {
   "cell_type": "code",
   "execution_count": 5,
   "metadata": {},
   "outputs": [],
   "source": [
    "def process_missing(df):\n",
    "    \"\"\"Handle various missing values in the data set\n",
    "    Args:\n",
    "        df(pandas.DataFrame): dataset to process\n",
    "    Returns:\n",
    "        pandas.DataFrame: Processed dataset\n",
    "    \"\"\"\n",
    "    df[\"Fare\"] = df[\"Fare\"].fillna(train[\"Fare\"].mean())\n",
    "    df[\"Embarked\"] = df[\"Embarked\"].fillna(\"S\")\n",
    "    return df\n",
    "\n",
    "def process_age(df):\n",
    "    \"\"\"Process the Age column into pre-defined 'bins' \n",
    "    Args:\n",
    "        df(pandas.DataFrame): dataset to process\n",
    "    Returns:\n",
    "        pandas.DataFrame: Processed dataset\n",
    "    \"\"\"\n",
    "    df[\"Age\"] = df[\"Age\"].fillna(-0.5)\n",
    "    cut_points = [-1,0,5,12,18,35,60,100]\n",
    "    label_names = [\"Missing\",\"Infant\",\"Child\",\"Teenager\",\"Young Adult\",\"Adult\",\"Senior\"]\n",
    "    df[\"Age_categories\"] = pd.cut(df[\"Age\"],cut_points,labels=label_names)\n",
    "    return df\n",
    "\n",
    "def process_fare(df):\n",
    "    \"\"\"Process the Fare column into pre-defined 'bins' \n",
    "    Args:\n",
    "        df(pandas.DataFrame): dataset to process\n",
    "    Returns:\n",
    "        pandas.DataFrame: Processed dataset\n",
    "    \"\"\"\n",
    "    cut_points = [-1,12,50,100,1000]\n",
    "    label_names = [\"0-12\",\"12-50\",\"50-100\",\"100+\"]\n",
    "    df[\"Fare_categories\"] = pd.cut(df[\"Fare\"],cut_points,labels=label_names)\n",
    "    return df\n",
    "\n",
    "def process_cabin(df):\n",
    "    \"\"\"Process the Cabin column into pre-defined 'bins' \n",
    "    Args:\n",
    "        df(pandas.DataFrame): dataset to process\n",
    "    Returns:\n",
    "        pandas.DataFrame: Processed dataset\n",
    "    \"\"\"\n",
    "    df[\"Cabin_type\"] = df[\"Cabin\"].str[0]\n",
    "    df[\"Cabin_type\"] = df[\"Cabin_type\"].fillna(\"Unknown\")\n",
    "    df = df.drop('Cabin',axis=1)\n",
    "    return df\n",
    "\n",
    "def process_titles(df):\n",
    "    \"\"\"Extract and categorize the title from the name column \n",
    "    Args:\n",
    "        df(pandas.DataFrame): dataset to process\n",
    "    Returns:\n",
    "        pandas.DataFrame: Processed dataset\n",
    "    \"\"\"\n",
    "    titles = {\n",
    "        \"Mr\" :         \"Mr\",\n",
    "        \"Mme\":         \"Mrs\",\n",
    "        \"Ms\":          \"Mrs\",\n",
    "        \"Mrs\" :        \"Mrs\",\n",
    "        \"Master\" :     \"Master\",\n",
    "        \"Mlle\":        \"Miss\",\n",
    "        \"Miss\" :       \"Miss\",\n",
    "        \"Capt\":        \"Officer\",\n",
    "        \"Col\":         \"Officer\",\n",
    "        \"Major\":       \"Officer\",\n",
    "        \"Dr\":          \"Officer\",\n",
    "        \"Rev\":         \"Officer\",\n",
    "        \"Jonkheer\":    \"Royalty\",\n",
    "        \"Don\":         \"Royalty\",\n",
    "        \"Sir\" :        \"Royalty\",\n",
    "        \"Countess\":    \"Royalty\",\n",
    "        \"Dona\":        \"Royalty\",\n",
    "        \"Lady\" :       \"Royalty\"\n",
    "    }\n",
    "    extracted_titles = df[\"Name\"].str.extract(' ([A-Za-z]+)\\.',expand=False)\n",
    "    df[\"Title\"] = extracted_titles.map(titles)\n",
    "    return df\n",
    "\n",
    "def create_dummies(df,column_name):\n",
    "    \"\"\"Create Dummy Columns (One Hot Encoding) from a single Column\n",
    "    Args:\n",
    "        df(pandas.DataFrame): dataset to process\n",
    "    Returns:\n",
    "        pandas.DataFrame: Processed dataset\n",
    "    \"\"\"\n",
    "    dummies = pd.get_dummies(df[column_name],prefix=column_name)\n",
    "    df = pd.concat([df,dummies],axis=1)\n",
    "    return df"
   ]
  },
  {
   "cell_type": "markdown",
   "metadata": {},
   "source": [
    "Function to apply all of the preprocessing:"
   ]
  },
  {
   "cell_type": "code",
   "execution_count": 6,
   "metadata": {},
   "outputs": [],
   "source": [
    "def apply_functions(df):\n",
    "    '''Apply all preprocessing steps to a dataset\n",
    "    Args:\n",
    "        df(pandas.DataFrame): dataset to process\n",
    "    Returns:\n",
    "        pandas.DataFrame: processed dataset\n",
    "    '''\n",
    "    df = process_missing(df)\n",
    "    df = process_age(df)\n",
    "    df = process_fare(df)\n",
    "    df = process_titles(df)\n",
    "    df = process_cabin(df)\n",
    "    for column in ['Age_categories', 'Fare_categories', 'Title', 'Cabin_type', 'Sex']:\n",
    "        df = create_dummies(df, column)\n",
    "    return df"
   ]
  },
  {
   "cell_type": "markdown",
   "metadata": {},
   "source": [
    "Applying the preprocessing can be done by running:\n",
    "\n",
    "`train = apply_functions(train)\n",
    "holdout = apply_functions(holdout)`\n",
    "\n",
    "but first some new features can be engineered. The preprocessing can then be applied to all features."
   ]
  },
  {
   "cell_type": "markdown",
   "metadata": {},
   "source": [
    "## Feature Engineering:"
   ]
  },
  {
   "cell_type": "code",
   "execution_count": 7,
   "metadata": {},
   "outputs": [],
   "source": [
    "import matplotlib.pyplot as plt\n",
    "%matplotlib inline"
   ]
  },
  {
   "cell_type": "markdown",
   "metadata": {},
   "source": [
    "To find possible new features, gaining an overview over the data by making histograms for different columns could help:"
   ]
  },
  {
   "cell_type": "code",
   "execution_count": 8,
   "metadata": {},
   "outputs": [
    {
     "data": {
      "text/plain": [
       "<matplotlib.axes._subplots.AxesSubplot at 0x1f7e22e32c8>"
      ]
     },
     "execution_count": 8,
     "metadata": {},
     "output_type": "execute_result"
    },
    {
     "data": {
      "image/png": "[encoded data removed]",
      "text/plain": [
       "<Figure size 432x288 with 1 Axes>"
      ]
     },
     "metadata": {
      "needs_background": "light"
     },
     "output_type": "display_data"
    }
   ],
   "source": [
    "train.SibSp.plot.hist()"
   ]
  },
  {
   "cell_type": "code",
   "execution_count": 9,
   "metadata": {},
   "outputs": [
    {
     "data": {
      "text/plain": [
       "<matplotlib.axes._subplots.AxesSubplot at 0x1f7e23e3f88>"
      ]
     },
     "execution_count": 9,
     "metadata": {},
     "output_type": "execute_result"
    },
    {
     "data": {
      "image/png": "[encoded data removed]",
      "text/plain": [
       "<Figure size 432x288 with 1 Axes>"
      ]
     },
     "metadata": {
      "needs_background": "light"
     },
     "output_type": "display_data"
    }
   ],
   "source": [
    "train.Parch.plot.hist()"
   ]
  },
  {
   "cell_type": "markdown",
   "metadata": {},
   "source": [
    "Most people on the Titanic were there without their families"
   ]
  },
  {
   "cell_type": "markdown",
   "metadata": {},
   "source": [
    "Pivot tables to find possible connections between family size and survival rate"
   ]
  },
  {
   "cell_type": "code",
   "execution_count": 10,
   "metadata": {},
   "outputs": [
    {
     "data": {
      "text/plain": [
       "<matplotlib.axes._subplots.AxesSubplot at 0x1f7e2485e48>"
      ]
     },
     "execution_count": 10,
     "metadata": {},
     "output_type": "execute_result"
    },
    {
     "data": {
      "image/png": "[encoded data removed]",
      "text/plain": [
       "<Figure size 432x288 with 1 Axes>"
      ]
     },
     "metadata": {
      "needs_background": "light"
     },
     "output_type": "display_data"
    }
   ],
   "source": [
    "train.pivot_table(values = 'Survived', index = ['Parch']).plot.bar()"
   ]
  },
  {
   "cell_type": "markdown",
   "metadata": {},
   "source": [
    "people with no parents or children have a lower survival rate than those with family on board. This does not hold up for people with 5 parents or children."
   ]
  },
  {
   "cell_type": "code",
   "execution_count": 11,
   "metadata": {},
   "outputs": [
    {
     "data": {
      "text/plain": [
       "<matplotlib.axes._subplots.AxesSubplot at 0x1f7e2524208>"
      ]
     },
     "execution_count": 11,
     "metadata": {},
     "output_type": "execute_result"
    },
    {
     "data": {
      "image/png": "[encoded data removed]",
      "text/plain": [
       "<Figure size 432x288 with 1 Axes>"
      ]
     },
     "metadata": {
      "needs_background": "light"
     },
     "output_type": "display_data"
    }
   ],
   "source": [
    "train.pivot_table(values = 'Survived', index = 'SibSp').plot.bar()"
   ]
  },
  {
   "cell_type": "markdown",
   "metadata": {},
   "source": [
    "Having siblings and/or a spouse on board also seems to increase the survival probability for 1 or 2 such family members. After this the survival probability decreases drastically.\n",
    "\n",
    "The question now is if these trends carry over when looking at the total size of the family:"
   ]
  },
  {
   "cell_type": "code",
   "execution_count": 12,
   "metadata": {},
   "outputs": [],
   "source": [
    "fam_cols = train[['SibSp', 'Parch', 'Survived']].copy()\n",
    "\n",
    "fam_cols['tots'] = fam_cols['SibSp'] + fam_cols['Parch']"
   ]
  },
  {
   "cell_type": "code",
   "execution_count": 13,
   "metadata": {},
   "outputs": [
    {
     "data": {
      "text/plain": [
       "<matplotlib.axes._subplots.AxesSubplot at 0x1f7e25a1908>"
      ]
     },
     "execution_count": 13,
     "metadata": {},
     "output_type": "execute_result"
    },
    {
     "data": {
      "image/png": "[encoded data removed]",
      "text/plain": [
       "<Figure size 432x288 with 1 Axes>"
      ]
     },
     "metadata": {
      "needs_background": "light"
     },
     "output_type": "display_data"
    }
   ],
   "source": [
    "fam_cols.tots.plot.hist()"
   ]
  },
  {
   "cell_type": "code",
   "execution_count": 14,
   "metadata": {},
   "outputs": [
    {
     "data": {
      "text/plain": [
       "<matplotlib.axes._subplots.AxesSubplot at 0x1f7e261f088>"
      ]
     },
     "execution_count": 14,
     "metadata": {},
     "output_type": "execute_result"
    },
    {
     "data": {
      "image/png": "[encoded data removed]",
      "text/plain": [
       "<Figure size 432x288 with 1 Axes>"
      ]
     },
     "metadata": {
      "needs_background": "light"
     },
     "output_type": "display_data"
    }
   ],
   "source": [
    "fam_cols.pivot_table(values = 'Survived', index = 'tots').plot.bar()"
   ]
  },
  {
   "cell_type": "markdown",
   "metadata": {},
   "source": [
    "Having a small family on board increases survival probability.\n",
    "Survival probability has a maximum at 3 family members on board.\n",
    "Four or more family members sharply reduce survival probability.\n",
    "Combining the different column might be a good idea to engineer a new feature. The individual columns behave very similarly to their total, which implies that it is probably not important if a family member belonged to the group parent/child or sibling/spouse."
   ]
  },
  {
   "cell_type": "markdown",
   "metadata": {},
   "source": [
    "## Engineering New Feature:"
   ]
  },
  {
   "cell_type": "code",
   "execution_count": 15,
   "metadata": {},
   "outputs": [],
   "source": [
    "train['famsize'] = train.Parch + train.SibSp\n",
    "holdout['famsize'] = holdout.Parch + holdout.SibSp"
   ]
  },
  {
   "cell_type": "markdown",
   "metadata": {},
   "source": [
    "To improve this feature either:\n",
    "\n",
    "* Change it into a binary feature\n",
    "* Make three groups of people\n",
    "\n",
    "The second choice seems to be the better one, because the previous analysis showed that larger families are at a disadvantage for survival when compared to small families. This information would be lost in a feature that only shows if someone was alone or not. \n",
    "\n",
    "On the other hand, the group traveling alone makes up a large majority of the total population. This could be helpful information to some of the models."
   ]
  },
  {
   "cell_type": "code",
   "execution_count": 16,
   "metadata": {},
   "outputs": [],
   "source": [
    "def make_alone(df):\n",
    "    '''Make a feature stating if someone traveled alone or with family\n",
    "    Args:\n",
    "        df(pandas.DataFrame): dataframe to add feature to\n",
    "    Return:\n",
    "        pandas.DataFrame: dataframe with added feature\n",
    "    '''\n",
    "    df.loc[df.famsize == 0, 'alone'] = 1\n",
    "    df.loc[df.famsize != 0, 'alone'] = 0\n",
    "    return df"
   ]
  },
  {
   "cell_type": "code",
   "execution_count": 17,
   "metadata": {},
   "outputs": [],
   "source": [
    "train = make_alone(train)\n",
    "holdout = make_alone(holdout)"
   ]
  },
  {
   "cell_type": "code",
   "execution_count": 18,
   "metadata": {},
   "outputs": [],
   "source": [
    "def mk_fsd(df):\n",
    "    '''Create new feature catigorizing family size:\n",
    "        0   - alone\n",
    "        1-3 - small\n",
    "        > 3 - large\n",
    "    Args:\n",
    "        df(pandas.DataFrame): dataframe to add feature to\n",
    "    Return:\n",
    "        pandas.DataFrame: dataframe with added feature\n",
    "    '''\n",
    "    df.loc[df.famsize == 0, 'famsize_disc'] = 'alone'\n",
    "    df.loc[(df.famsize > 0) & (df.famsize < 4), 'famsize_disc'] = 'small'\n",
    "    df.loc[df.famsize >= 4, 'famsize_disc'] = 'large'\n",
    "    df = create_dummies(df,'famsize_disc')\n",
    "    return df    "
   ]
  },
  {
   "cell_type": "code",
   "execution_count": 19,
   "metadata": {},
   "outputs": [],
   "source": [
    "train = mk_fsd(train)\n",
    "holdout = mk_fsd(holdout)"
   ]
  },
  {
   "cell_type": "markdown",
   "metadata": {},
   "source": [
    "with the new features in place, the preprocessing steps have to be applied:"
   ]
  },
  {
   "cell_type": "code",
   "execution_count": 31,
   "metadata": {},
   "outputs": [],
   "source": [
    "train_original = train.copy()\n",
    "holdout_original = holdout.copy()\n",
    "train = apply_functions(train)\n",
    "holdout = apply_functions(holdout)"
   ]
  },
  {
   "cell_type": "markdown",
   "metadata": {},
   "source": [
    "Now it is important, that both the `train` and `holdout` set contain the same columns, because otherwise models trained on the `train` dataset would not necessarily be applicable to `holdout`:"
   ]
  },
  {
   "cell_type": "code",
   "execution_count": null,
   "metadata": {},
   "outputs": [],
   "source": [
    "for column in holdout.columns:\n",
    "    if (column not in train.columns):\n",
    "        print(str(column) + ' is in holdout, but not in train')\n",
    "for column in train.columns:\n",
    "    if (column not in holdout.columns):\n",
    "        print(str(column) + ' is in train, but not in holdout')"
   ]
  },
  {
   "cell_type": "markdown",
   "metadata": {},
   "source": [
    "The column `Survived` is excluded from the holdout so that the contestants in the competition do not have access to the results. The only other discrepancy is the `Cabin_type_T` column. The reason for the discrepancy can be seen when looking at the datasets before applying the functions:"
   ]
  },
  {
   "cell_type": "code",
   "execution_count": 34,
   "metadata": {
    "scrolled": true
   },
   "outputs": [
    {
     "name": "stdout",
     "output_type": "stream",
     "text": [
      "C    59\n",
      "B    47\n",
      "D    33\n",
      "E    32\n",
      "A    15\n",
      "F    13\n",
      "G     4\n",
      "T     1\n",
      "Name: Cabin, dtype: int64\n",
      "C    35\n",
      "B    18\n",
      "D    13\n",
      "E     9\n",
      "F     8\n",
      "A     7\n",
      "G     1\n",
      "Name: Cabin, dtype: int64\n"
     ]
    }
   ],
   "source": [
    "print(train_original.Cabin.str[0].value_counts())\n",
    "print(holdout_original.Cabin.str[0].value_counts())"
   ]
  },
  {
   "cell_type": "markdown",
   "metadata": {},
   "source": [
    "The holdout dataset did not contain a single passenger in a cabin with the type T. This seems o be a very rare cabin type, because there is only one in the complete dataset. Maybe these are the captain's quarters. Due to the small variability in the column `Cabin_type_T` caused by there only being one 1 value and the rest all being 0s it would be the best course of action to just drop this column from the train set, since it is unlikely to contribute to the accuracy of any of the machine learning models:"
   ]
  },
  {
   "cell_type": "code",
   "execution_count": 36,
   "metadata": {},
   "outputs": [],
   "source": [
    "train.drop(columns = ['Cabin_type_T'], inplace = True)"
   ]
  },
  {
   "cell_type": "markdown",
   "metadata": {},
   "source": [
    "## Feature selection\n",
    "\n",
    "Making a function to use the Recursive Feature Elimination with Cross-Validation (RFECV) algorithm in sklearn:"
   ]
  },
  {
   "cell_type": "code",
   "execution_count": 37,
   "metadata": {},
   "outputs": [],
   "source": [
    "from sklearn.feature_selection import RFECV\n",
    "from sklearn.ensemble import RandomForestClassifier"
   ]
  },
  {
   "cell_type": "code",
   "execution_count": 38,
   "metadata": {},
   "outputs": [],
   "source": [
    "def select_features(df, estimator = RandomForestClassifier(random_state = 1, n_jobs = -1)):\n",
    "    '''Select best features\n",
    "    Args:\n",
    "        df(pandas.DataFrame): dataset from which to select features\n",
    "        estimator = RandomForest_Classifier(random_state = 1, n_jobs = -1): machine learning model to use\n",
    "    Returns:\n",
    "        list(str): list containing the best performing features.\n",
    "    '''\n",
    "    all_X = df.select_dtypes(exclude = ['object', 'category']).drop(columns = ['Survived', 'PassengerId']).dropna(axis = 1)\n",
    "    all_y = df.Survived\n",
    "\n",
    "    est = estimator\n",
    "\n",
    "    selector = RFECV(est, cv = 10, n_jobs = 4)\n",
    "    selector.fit(all_X, all_y)\n",
    "    columns = all_X.columns[selector.support_]\n",
    "    print(columns)\n",
    "    return columns"
   ]
  },
  {
   "cell_type": "code",
   "execution_count": 39,
   "metadata": {},
   "outputs": [
    {
     "name": "stdout",
     "output_type": "stream",
     "text": [
      "Index(['Pclass', 'Age', 'SibSp', 'Parch', 'Fare', 'famsize', 'alone',\n",
      "       'famsize_disc_alone', 'famsize_disc_large', 'famsize_disc_small',\n",
      "       'Age_categories_Missing', 'Age_categories_Infant',\n",
      "       'Age_categories_Child', 'Age_categories_Teenager',\n",
      "       'Age_categories_Young Adult', 'Age_categories_Adult',\n",
      "       'Fare_categories_0-12', 'Fare_categories_12-50',\n",
      "       'Fare_categories_50-100', 'Fare_categories_100+', 'Title_Master',\n",
      "       'Title_Miss', 'Title_Mr', 'Title_Mrs', 'Title_Officer', 'Cabin_type_B',\n",
      "       'Cabin_type_C', 'Cabin_type_D', 'Cabin_type_E', 'Cabin_type_Unknown',\n",
      "       'Sex_female', 'Sex_male'],\n",
      "      dtype='object')\n"
     ]
    }
   ],
   "source": [
    "best_cols = select_features(train, RandomForestClassifier(random_state = 1, n_jobs = -1))\n",
    "all_X = train[best_cols]\n",
    "all_y = train.Survived\n"
   ]
  },
  {
   "cell_type": "markdown",
   "metadata": {},
   "source": [
    "## Model Selection and Tuning:\n",
    "\n",
    "Next the `sklearn.model_selection.GridSearchCV` algorithm will be used to determine the best model as well as its settings for the data:"
   ]
  },
  {
   "cell_type": "code",
   "execution_count": 40,
   "metadata": {},
   "outputs": [],
   "source": [
    "from sklearn.model_selection import GridSearchCV\n",
    "from sklearn.neighbors import KNeighborsClassifier\n",
    "from sklearn.linear_model import LogisticRegression\n",
    "from sklearn.neural_network import MLPClassifier"
   ]
  },
  {
   "cell_type": "markdown",
   "metadata": {},
   "source": [
    "Making a list of model dictionaries, to be able to automate the grid search. The list will contain the model names, as well as some important settings for each model"
   ]
  },
  {
   "cell_type": "code",
   "execution_count": 41,
   "metadata": {},
   "outputs": [],
   "source": [
    "model_dics = [{\n",
    "    'name': 'KNeighborsClassifier',\n",
    "    'estimator': KNeighborsClassifier(n_jobs = -1),\n",
    "    'hyperparameters':\n",
    "    {\n",
    "        'n_neighbors': range(1,20, 2),\n",
    "        'weights': ['distance', 'uniform'],\n",
    "        'algorithm': ['ball_tree', 'kd_tree', 'brute'],\n",
    "        'p': [1,2]\n",
    "    }\n",
    "},\n",
    "    {\n",
    "        'name': 'LogisticRegression',\n",
    "        'estimator': LogisticRegression(n_jobs = -1),\n",
    "        'hyperparameters': \n",
    "        {\n",
    "            'solver' : ['newton-cg', 'ldfgs', 'liblinear']    \n",
    "    }\n",
    "    },\n",
    "    {\n",
    "        'name': 'RandomForestClassifier',\n",
    "        'estimator': RandomForestClassifier(random_state = 1, n_jobs = -1),\n",
    "        'hyperparameters':\n",
    "        {\n",
    "            'n_estimators' : [4, 6, 9, 100],\n",
    "            'criterion': ['entropy', 'gini'],\n",
    "            'max_depth': [2, 5, 10],\n",
    "            'max_features': ['log2', 'sqrt'],\n",
    "            'min_samples_leaf': [1, 5, 8],\n",
    "            'min_samples_split': [2, 3, 5]\n",
    "        }\n",
    "    },\n",
    "    {\n",
    "        'name': 'MLPClassifier',\n",
    "        'estimator': MLPClassifier(random_state = 1),\n",
    "        'hyperparameters':\n",
    "        {\n",
    "            'hidden_layer_sizes': [(10,), (20,), (30,), (50, 50), (20,20,20,20,20), (512, 256)],\n",
    "            'solver': ['lbfgs', 'sgd', 'adam'],\n",
    "            'max_iter': [100, 1000, 10000],\n",
    "            'learning_rate': ['constant', 'invscaling', 'adaptive']\n",
    "            \n",
    "        }\n",
    "    }\n",
    "]"
   ]
  },
  {
   "cell_type": "code",
   "execution_count": 42,
   "metadata": {},
   "outputs": [],
   "source": [
    "def select_model(df, model_dic):\n",
    "    '''Select the correct model using the grid-search algorithm:\n",
    "    Args:\n",
    "        df(pandas.DataFrame): dataframe to apply the model to\n",
    "        model_dic: dictionary containing the information of each model and the values\n",
    "        to try during the gridsearch\n",
    "    Returns:\n",
    "        best performing parameters, best performing trained model\n",
    "    '''\n",
    "    est = model_dic['estimator']\n",
    "    hp = model_dic['hyperparameters']\n",
    "    grid = GridSearchCV(estimator = est, n_jobs = -1, param_grid = hp, cv = 10)\n",
    "    grid.fit(all_X, all_y)\n",
    "    print(model_dic['name'])\n",
    "    print(grid.best_params_)\n",
    "    print(grid.best_score_)\n",
    "    return grid.best_params_, grid.best_estimator_"
   ]
  },
  {
   "cell_type": "code",
   "execution_count": 43,
   "metadata": {},
   "outputs": [
    {
     "name": "stdout",
     "output_type": "stream",
     "text": [
      "KNeighborsClassifier\n",
      "{'algorithm': 'kd_tree', 'n_neighbors': 3, 'p': 1, 'weights': 'uniform'}\n",
      "0.7845318352059926\n",
      "LogisticRegression\n",
      "{'solver': 'newton-cg'}\n",
      "0.823832709113608\n",
      "RandomForestClassifier\n",
      "{'criterion': 'entropy', 'max_depth': 10, 'max_features': 'log2', 'min_samples_leaf': 5, 'min_samples_split': 2, 'n_estimators': 100}\n",
      "0.8384019975031209\n",
      "MLPClassifier\n",
      "{'hidden_layer_sizes': (10,), 'learning_rate': 'constant', 'max_iter': 1000, 'solver': 'adam'}\n",
      "0.8170786516853932\n"
     ]
    }
   ],
   "source": [
    "for model in model_dics:\n",
    "    results = select_model(train, model)\n",
    "    model['best_params'] = results[0]\n",
    "    model['best_est'] = results[1]"
   ]
  },
  {
   "cell_type": "markdown",
   "metadata": {},
   "source": [
    "The model with the highest accuracy is the random forest classifier. The Logistic Regression and multi-layer perceptron are very close in score. Now a function will be created to be able to make submissions to Kaggle:"
   ]
  },
  {
   "cell_type": "code",
   "execution_count": 52,
   "metadata": {},
   "outputs": [],
   "source": [
    "def make_predictions(df, modelnr):\n",
    "    '''Make predictions on a dataset using the best settings detected in the grid search\n",
    "    Args:\n",
    "        df (pandas.DataFrame): dataframe to make predictions on\n",
    "        modelnr (int): index of the model in model_dics\n",
    "    Returns:\n",
    "        .CSV file predictions based on a model in the models dictionary, in the right formating\n",
    "        to be used as a Kaggle submission\n",
    "    '''\n",
    "    predictions = model_dics[modelnr]['best_est'].predict(df[best_cols])\n",
    "    pred_df = pd.DataFrame(\n",
    "        {\n",
    "            'PassengerID' : df.PassengerId,\n",
    "            'Survived' : predictions\n",
    "        }\n",
    "    )\n",
    "    pred_df.to_csv('submission.csv', index = False)"
   ]
  },
  {
   "cell_type": "markdown",
   "metadata": {},
   "source": [
    "The random forest model will be used first, since it performed the highest:"
   ]
  },
  {
   "cell_type": "code",
   "execution_count": 53,
   "metadata": {},
   "outputs": [],
   "source": [
    "make_predictions(holdout, 2)"
   ]
  },
  {
   "cell_type": "code",
   "execution_count": 54,
   "metadata": {
    "scrolled": true
   },
   "outputs": [
    {
     "data": {
      "text/html": [
       "<div>\n",
       "<style scoped>\n",
       "    .dataframe tbody tr th:only-of-type {\n",
       "        vertical-align: middle;\n",
       "    }\n",
       "\n",
       "    .dataframe tbody tr th {\n",
       "        vertical-align: top;\n",
       "    }\n",
       "\n",
       "    .dataframe thead th {\n",
       "        text-align: right;\n",
       "    }\n",
       "</style>\n",
       "<table border=\"1\" class=\"dataframe\">\n",
       "  <thead>\n",
       "    <tr style=\"text-align: right;\">\n",
       "      <th></th>\n",
       "      <th>PassengerID</th>\n",
       "      <th>Survived</th>\n",
       "    </tr>\n",
       "  </thead>\n",
       "  <tbody>\n",
       "    <tr>\n",
       "      <th>0</th>\n",
       "      <td>892</td>\n",
       "      <td>0</td>\n",
       "    </tr>\n",
       "    <tr>\n",
       "      <th>1</th>\n",
       "      <td>893</td>\n",
       "      <td>0</td>\n",
       "    </tr>\n",
       "    <tr>\n",
       "      <th>2</th>\n",
       "      <td>894</td>\n",
       "      <td>0</td>\n",
       "    </tr>\n",
       "    <tr>\n",
       "      <th>3</th>\n",
       "      <td>895</td>\n",
       "      <td>0</td>\n",
       "    </tr>\n",
       "    <tr>\n",
       "      <th>4</th>\n",
       "      <td>896</td>\n",
       "      <td>1</td>\n",
       "    </tr>\n",
       "    <tr>\n",
       "      <th>...</th>\n",
       "      <td>...</td>\n",
       "      <td>...</td>\n",
       "    </tr>\n",
       "    <tr>\n",
       "      <th>413</th>\n",
       "      <td>1305</td>\n",
       "      <td>0</td>\n",
       "    </tr>\n",
       "    <tr>\n",
       "      <th>414</th>\n",
       "      <td>1306</td>\n",
       "      <td>1</td>\n",
       "    </tr>\n",
       "    <tr>\n",
       "      <th>415</th>\n",
       "      <td>1307</td>\n",
       "      <td>0</td>\n",
       "    </tr>\n",
       "    <tr>\n",
       "      <th>416</th>\n",
       "      <td>1308</td>\n",
       "      <td>0</td>\n",
       "    </tr>\n",
       "    <tr>\n",
       "      <th>417</th>\n",
       "      <td>1309</td>\n",
       "      <td>1</td>\n",
       "    </tr>\n",
       "  </tbody>\n",
       "</table>\n",
       "<p>418 rows × 2 columns</p>\n",
       "</div>"
      ],
      "text/plain": [
       "     PassengerID  Survived\n",
       "0            892         0\n",
       "1            893         0\n",
       "2            894         0\n",
       "3            895         0\n",
       "4            896         1\n",
       "..           ...       ...\n",
       "413         1305         0\n",
       "414         1306         1\n",
       "415         1307         0\n",
       "416         1308         0\n",
       "417         1309         1\n",
       "\n",
       "[418 rows x 2 columns]"
      ]
     },
     "execution_count": 54,
     "metadata": {},
     "output_type": "execute_result"
    }
   ],
   "source": [
    "pd.read_csv('submission.csv')"
   ]
  },
  {
   "cell_type": "markdown",
   "metadata": {},
   "source": [
    "### RF:\n",
    "The random forest model achieved an accuracy score of 0.79425 on Kaggle, which is very close to what it achieved when tested on the train model. But because two other models scored very close to the same accuracy as the random forest, they will also be used to make submissions to Kaggle. First off, the linear regression model will be used:"
   ]
  },
  {
   "cell_type": "code",
   "execution_count": 57,
   "metadata": {},
   "outputs": [],
   "source": [
    "make_predictions(holdout, 1)"
   ]
  },
  {
   "cell_type": "markdown",
   "metadata": {},
   "source": [
    "### LR:\n",
    "The linear regression model scored 0.77511, which is slightly worse than that of the random forest. Next, the multi-layer perceptron will be tested:"
   ]
  },
  {
   "cell_type": "code",
   "execution_count": 58,
   "metadata": {},
   "outputs": [],
   "source": [
    "make_predictions(holdout, 3)"
   ]
  },
  {
   "cell_type": "markdown",
   "metadata": {},
   "source": [
    "### MLP:\n",
    "\n",
    "The multi-layer preceptron achieved a score of 0.78468, which is better than the linear regression model and worse than the random forest model. This is what is expected from the accuracy scores the models achieve when applied to the train set."
   ]
  },
  {
   "cell_type": "markdown",
   "metadata": {},
   "source": [
    "# Summary:\n",
    "\n",
    "In this project four different machine learning models were used to predict whether or not different passengers of the Titanic would survive the trip: a k-nearest neighbors classifier, a linear regression classifier, a random forest classifier and a multi-layer perceptron. The last three of these performed very similarly when applied to the train set at an accuracy score of 81% - 83%. The k-nearest neighbors model performed worse at 78%.The highest scoring model was the random forest.\n",
    "\n",
    "The three models were then used to create submissions for the Kaggle competition based on the dataset. Here they all performed very similarly as when applied on the train set. Again the random forest model performed the best by a slight margin at 79.4% accuracy."
   ]
  },
  {
   "cell_type": "markdown",
   "metadata": {},
   "source": [
    "# Addendum:\n",
    "\n",
    "## MLP in Tensorflow\n",
    "\n",
    "Here I attempted to make a multi-layer perceptron in Tensorflow from scratch to achieve the same result as the mlp model using sklearn. This was done, so I could understand the way neural networks work from the ground up. Unfortunately as of writing this it is not converging. I may come back to this in the future, as I learn more about neural networks and understand what is going wrong. If I get it to work, I will also improve the documentation."
   ]
  },
  {
   "cell_type": "code",
   "execution_count": 59,
   "metadata": {},
   "outputs": [
    {
     "name": "stderr",
     "output_type": "stream",
     "text": [
      "Using TensorFlow backend.\n"
     ]
    }
   ],
   "source": [
    "import keras\n",
    "from sklearn.preprocessing import LabelBinarizer\n",
    "import os\n",
    "os.environ['TF_MIN_GPU_MULTIPROCESSOR_COUNT']='4'\n",
    "os.environ['CUDA_VISIBLE_DEVICES'] = '0,1'\n",
    "import tensorflow.compat.v1 as tf\n",
    "from sklearn.metrics import roc_auc_score, accuracy_score\n",
    "s = tf.InteractiveSession()\n",
    "tf.disable_eager_execution()"
   ]
  },
  {
   "cell_type": "markdown",
   "metadata": {},
   "source": [
    "Normalizing the selected features from all_X and holdout"
   ]
  },
  {
   "cell_type": "code",
   "execution_count": 60,
   "metadata": {},
   "outputs": [
    {
     "name": "stdout",
     "output_type": "stream",
     "text": [
      "(691, 32) (200, 32)\n"
     ]
    }
   ],
   "source": [
    "from sklearn.preprocessing import normalize\n",
    "tf_X = normalize(all_X[best_cols], axis = 0)\n",
    "tf_X = tf_X.astype(np.float32)\n",
    "tf_X_test = tf_X[-200:]\n",
    "tf_X = tf_X[:-200]\n",
    "print(tf_X.shape, tf_X_test.shape)\n",
    "tf_holdout = normalize(holdout[best_cols], axis = 0)"
   ]
  },
  {
   "cell_type": "markdown",
   "metadata": {},
   "source": [
    "turning the labels into a one-hot encoded vector:"
   ]
  },
  {
   "cell_type": "code",
   "execution_count": 61,
   "metadata": {},
   "outputs": [],
   "source": [
    "lb = LabelBinarizer()\n",
    "tf_y = lb.fit_transform(all_y)\n",
    "tf_y = tf_y.astype(np.float32)\n",
    "tf_y_test = tf_y[-200:]\n",
    "tf_y = tf_y[:-200]"
   ]
  },
  {
   "cell_type": "markdown",
   "metadata": {},
   "source": [
    "The model will at first have the proportions: \n",
    "#features(input) - 512(hidden layer 1) - 256(hidden-layer 2) - 1(Output)"
   ]
  },
  {
   "cell_type": "code",
   "execution_count": 62,
   "metadata": {},
   "outputs": [],
   "source": [
    "num_classes = 1\n",
    "num_features = tf_X.shape[1]\n",
    "num_output = 1\n",
    "num_layers_0 = 512\n",
    "num_layers_1 = 256\n",
    "starter_learning_rate = 0.001\n",
    "regularizer_rate = 0.1"
   ]
  },
  {
   "cell_type": "markdown",
   "metadata": {},
   "source": [
    "Placeholders for  Tensorflow"
   ]
  },
  {
   "cell_type": "code",
   "execution_count": 63,
   "metadata": {},
   "outputs": [],
   "source": [
    "input_X = tf.placeholder('float32', shape = (None, num_features), name = 'input_X')\n",
    "input_y = tf.placeholder('float32', shape = (None, num_classes), name = 'input_y')\n",
    "# for dropout\n",
    "keep_prob = tf.placeholder(tf.float32)"
   ]
  },
  {
   "cell_type": "markdown",
   "metadata": {},
   "source": [
    "Initializing the dense layers with a random normal distribution with zero meand and a small vaiance (1/sqrt(number of features))"
   ]
  },
  {
   "cell_type": "code",
   "execution_count": 64,
   "metadata": {},
   "outputs": [
    {
     "name": "stdout",
     "output_type": "stream",
     "text": [
      "WARNING:tensorflow:From C:\\Users\\apist\\.conda\\envs\\tfgpu\\lib\\site-packages\\tensorflow_core\\python\\ops\\resource_variable_ops.py:1635: calling BaseResourceVariable.__init__ (from tensorflow.python.ops.resource_variable_ops) with constraint is deprecated and will be removed in a future version.\n",
      "Instructions for updating:\n",
      "If using Keras pass *_constraint arguments to layers.\n"
     ]
    }
   ],
   "source": [
    "weights_0 = tf.Variable(tf.random_normal([num_features, num_layers_0], stddev = 1/tf.sqrt(float(num_features))))\n",
    "bias_0 = tf.Variable(tf.random_normal([num_layers_0]))\n",
    "\n",
    "weights_1 = tf.Variable(tf.random_normal([num_layers_0, num_layers_1], stddev = 1/tf.sqrt(float(num_layers_0))))\n",
    "bias_1 = tf.Variable(tf.random_normal([num_layers_1]))\n",
    "\n",
    "weights_2 = tf.Variable(tf.random_normal([num_layers_1, num_output], stddev = 1/tf.sqrt(float(num_output))))\n",
    "bias_2 = tf.Variable(tf.random_normal([num_output]))"
   ]
  },
  {
   "cell_type": "markdown",
   "metadata": {},
   "source": [
    "Beginning the graph calculation:\n",
    "\n",
    "1. multiply the input for each layer with its weights\n",
    "2. add the biases\n",
    "3. activation function (for the hidden layers the relu function will be used, the output layers will use a sigmoid function, to produce a probability score to assign each passenger to either 1(survived) or 0(perished))\n",
    "4. using dropout regularization to reduce overfitting. Dropout randomly selects features in the layers it is used on th train a new model. This decreases model complexity and specialization and in turn overfitting."
   ]
  },
  {
   "cell_type": "code",
   "execution_count": 65,
   "metadata": {},
   "outputs": [
    {
     "name": "stdout",
     "output_type": "stream",
     "text": [
      "WARNING:tensorflow:From <ipython-input-65-15b468943daf>:3: calling dropout (from tensorflow.python.ops.nn_ops) with keep_prob is deprecated and will be removed in a future version.\n",
      "Instructions for updating:\n",
      "Please use `rate` instead of `keep_prob`. Rate should be set to `rate = 1 - keep_prob`.\n"
     ]
    }
   ],
   "source": [
    "# Initializing weights and biases:\n",
    "hidden_output_0 = tf.nn.relu(tf.matmul(input_X, weights_0) + bias_0)\n",
    "hidden_output_0_0 = tf.nn.dropout(hidden_output_0, keep_prob)\n",
    "\n",
    "hidden_output_1 = tf.nn.relu(tf.matmul(hidden_output_0_0, weights_1) + bias_1)\n",
    "hidden_output_1_1 = tf.nn.dropout(hidden_output_1, keep_prob)\n",
    "\n",
    "predicted_y = tf.sigmoid(tf.matmul(hidden_output_1_1, weights_2) + bias_2)"
   ]
  },
  {
   "cell_type": "markdown",
   "metadata": {},
   "source": [
    "## Loss function and regularization:\n",
    "\n",
    "The loss function used will be softmax cross entropy with logits. Loss functions give the model a value to minimize, which is the goal telling the model it is converging.\n",
    "\n",
    "Additional measure against overfitting, regularisation:\n",
    "Additional term is added to the loss function:\n",
    "    -> reduces the values in weight functions\n",
    "    -> results in simpler models and reduces ovefitting\n",
    "L2 regularization will be used, which punishes large values in the weight matrices quadratically"
   ]
  },
  {
   "cell_type": "code",
   "execution_count": 66,
   "metadata": {},
   "outputs": [],
   "source": [
    "loss = tf.reduce_mean(tf.nn.softmax_cross_entropy_with_logits_v2(logits = predicted_y, labels = input_y)) \\\n",
    "+ regularizer_rate * (tf.reduce_sum(tf.square(bias_1)))"
   ]
  },
  {
   "cell_type": "markdown",
   "metadata": {},
   "source": [
    "Optimizer and Learning rate: \n",
    "Exponential decay will be used to reduce the learning rate by 15% every five epochs.\n",
    "The Adam optimizer will be used"
   ]
  },
  {
   "cell_type": "code",
   "execution_count": 67,
   "metadata": {},
   "outputs": [],
   "source": [
    "## Variable learning rate\n",
    "learning_rate = tf.train.exponential_decay(starter_learning_rate, 0, 5, 0.85, staircase = True)\n",
    "## Adam optimizer for finding the right weights\n",
    "optimizer = tf.train.AdamOptimizer(learning_rate).minimize(loss, var_list = [weights_0 , weights_1, weights_2,\n",
    "                                                                             bias_0, bias_1, bias_2])"
   ]
  },
  {
   "cell_type": "markdown",
   "metadata": {},
   "source": [
    "## Accuracy metric"
   ]
  },
  {
   "cell_type": "code",
   "execution_count": 68,
   "metadata": {},
   "outputs": [],
   "source": [
    "## Metrics definition\n",
    "correct_prediction = tf.equal(tf_y, predicted_y)\n",
    "accuracy = tf.reduce_mean(tf.cast(correct_prediction, tf.float32))\n"
   ]
  },
  {
   "cell_type": "markdown",
   "metadata": {},
   "source": [
    "## Training the Network:\n",
    "batch optimization size 128 and train for 14 epochs"
   ]
  },
  {
   "cell_type": "code",
   "execution_count": 69,
   "metadata": {},
   "outputs": [
    {
     "name": "stdout",
     "output_type": "stream",
     "text": [
      "Epoch0. Train loss: 24.93 Train acc: 0.612,test acc: 0.630\n",
      "Epoch1. Train loss: 23.32 Train acc: 0.612,test acc: 0.630\n",
      "Epoch2. Train loss: 21.83 Train acc: 0.612,test acc: 0.630\n",
      "Epoch3. Train loss: 20.44 Train acc: 0.612,test acc: 0.630\n",
      "Epoch4. Train loss: 19.15 Train acc: 0.612,test acc: 0.630\n",
      "Epoch5. Train loss: 17.94 Train acc: 0.612,test acc: 0.630\n",
      "Epoch6. Train loss: 16.82 Train acc: 0.612,test acc: 0.630\n",
      "Epoch7. Train loss: 15.77 Train acc: 0.612,test acc: 0.630\n",
      "Epoch8. Train loss: 14.78 Train acc: 0.612,test acc: 0.630\n",
      "Epoch9. Train loss: 13.87 Train acc: 0.612,test acc: 0.630\n",
      "Epoch10. Train loss: 13.01 Train acc: 0.612,test acc: 0.630\n",
      "Epoch11. Train loss: 12.20 Train acc: 0.612,test acc: 0.630\n",
      "Epoch12. Train loss: 11.45 Train acc: 0.612,test acc: 0.630\n",
      "Epoch13. Train loss: 10.74 Train acc: 0.612,test acc: 0.630\n"
     ]
    }
   ],
   "source": [
    "import time\n",
    "t0 = time.time()\n",
    "## Training parameters\n",
    "batch_size = 16\n",
    "epochs = 14\n",
    "dropout_prob = 0.6\n",
    "\n",
    "training_accuracy = []\n",
    "training_loss = []\n",
    "testing_accuracy = []\n",
    "\n",
    "s.run(tf.global_variables_initializer())\n",
    "for epoch in range(epochs):\n",
    "    arr = np.arange(tf_X.shape[0])\n",
    "    np.random.shuffle(arr)\n",
    "    for index in range(0, tf_X.shape[0], batch_size):\n",
    "        s.run(optimizer, {input_X: \n",
    "                         tf_X[arr[index:index+batch_size]],\n",
    "                         input_y:\n",
    "                         tf_y[arr[index:index+batch_size]],\n",
    "                         keep_prob: dropout_prob})\n",
    "    training_accuracy.append(s.run(accuracy, feed_dict = {input_X: tf_X,\n",
    "                                                             input_y: tf_y,\n",
    "                                                             keep_prob: 1}))\n",
    "    training_loss.append(s.run(loss, {input_X: tf_X,\n",
    "                                         input_y: tf_y,\n",
    "                                         keep_prob: 1}))\n",
    "    testing_accuracy.append(accuracy_score(tf_y_test, s.run(predicted_y, {input_X: tf_X_test,\n",
    "                                                                                    keep_prob:1})))\n",
    "    print('Epoch{0}. Train loss: {1:.2f} Train acc: {2:.3f},test acc: {3:.3f}'.format(epoch, \n",
    "                                                                                            training_loss[epoch],\n",
    "                                                                                           training_accuracy[epoch],\n",
    "                                                                                          testing_accuracy[epoch]))"
   ]
  }
 ],
 "metadata": {
  "kernelspec": {
   "display_name": "Python 3",
   "language": "python",
   "name": "python3"
  },
  "language_info": {
   "codemirror_mode": {
    "name": "ipython",
    "version": 3
   },
   "file_extension": ".py",
   "mimetype": "text/x-python",
   "name": "python",
   "nbconvert_exporter": "python",
   "pygments_lexer": "ipython3",
   "version": "3.7.6"
  }
 },
 "nbformat": 4,
 "nbformat_minor": 2
}
